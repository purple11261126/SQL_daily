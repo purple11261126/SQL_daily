{
 "cells": [
  {
   "cell_type": "markdown",
   "metadata": {},
   "source": [
    "# 子查询  \n",
    "\n",
    "需要跨表查询的时候，就用到子查询。  \n",
    "就是跨表的查询嵌套。  \n",
    "书写时，由外向里，处理时，由里向外。  \n",
    "注意：子查询只能查询单个列。"
   ]
  },
  {
   "cell_type": "markdown",
   "metadata": {},
   "source": [
    "## 1、子查询过滤\n",
    "\n",
    "### 在 WHERE 子句的 IN 关键词中过滤其他表的数据：\n",
    "\n",
    "SELECT cust_name, cust_contact  \n",
    "FROM Customers  \n",
    "WHERE cust_id IN (SELECT cust_id  \n",
    "&emsp;&emsp;&emsp;&emsp;&emsp;&emsp;&emsp;&emsp;&emsp;FROM Orders  \n",
    "&emsp;&emsp;&emsp;&emsp;&emsp;&emsp;&emsp;&emsp;&emsp;WHERE order_num IN (SELECT order_num  \n",
    "&emsp;&emsp;&emsp;&emsp;&emsp;&emsp;&emsp;&emsp;&emsp;&emsp;&emsp;&emsp;&emsp;&emsp;&emsp;&emsp;&emsp;&emsp;&emsp;&ensp;FROM OrderItems  \n",
    "&emsp;&emsp;&emsp;&emsp;&emsp;&emsp;&emsp;&emsp;&emsp;&emsp;&emsp;&emsp;&emsp;&emsp;&emsp;&emsp;&emsp;&emsp;&emsp;&ensp;WHERE prod_id = 'RGAN01'));  "
   ]
  },
  {
   "cell_type": "markdown",
   "metadata": {},
   "source": [
    "## 2、子查询计算字段  \n",
    "\n",
    "### SELECT 中的一列数据：\n",
    "\n",
    "SELECT cust_name,  \n",
    "&emsp;&emsp;&emsp;&emsp; cust_state,  \n",
    "&emsp;&emsp;&emsp;&emsp; (SELECT count(*)  \n",
    "&emsp;&emsp;&emsp;&emsp;&ensp; FROM Orders  \n",
    "&emsp;&emsp;&emsp;&emsp;&ensp; WHERE Orders.cust_id = Customers.cust_id) AS orders -- 完全限定列名：table.column  \n",
    "FROM Customers  \n",
    "ORDER BY cust_name;  "
   ]
  },
  {
   "cell_type": "code",
   "execution_count": null,
   "metadata": {},
   "outputs": [],
   "source": []
  }
 ],
 "metadata": {
  "kernelspec": {
   "display_name": "Python 3",
   "language": "python",
   "name": "python3"
  },
  "language_info": {
   "codemirror_mode": {
    "name": "ipython",
    "version": 3
   },
   "file_extension": ".py",
   "mimetype": "text/x-python",
   "name": "python",
   "nbconvert_exporter": "python",
   "pygments_lexer": "ipython3",
   "version": "3.6.5"
  }
 },
 "nbformat": 4,
 "nbformat_minor": 2
}
