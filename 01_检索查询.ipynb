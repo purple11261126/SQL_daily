{
 "cells": [
  {
   "cell_type": "markdown",
   "metadata": {},
   "source": [
    "# Python 操作数据库"
   ]
  },
  {
   "cell_type": "code",
   "execution_count": 3,
   "metadata": {},
   "outputs": [],
   "source": [
    "import sqlite3\n",
    "\n",
    "sqlite_data_path = './tysql.sqlite'"
   ]
  },
  {
   "cell_type": "code",
   "execution_count": 4,
   "metadata": {},
   "outputs": [],
   "source": [
    "# Python 操作数据库一般步骤\n",
    "conn = sqlite3.connect(sqlite_data_path)  # 连接 sqlite\n",
    "cur = conn.cursor()  # 创建游标\n",
    "sql = 'SELECT * FROM Customers LIMIT 2'  # 要执行的 SQL 语句\n",
    "cur.execute(sql)  # SQL 语句\n",
    "conn.commit()  # 提交\n",
    "cur.close()  # 关闭游标\n",
    "conn.close()  # 关闭连接"
   ]
  },
  {
   "cell_type": "code",
   "execution_count": 9,
   "metadata": {},
   "outputs": [
    {
     "data": {
      "text/html": [
       "<div>\n",
       "<style scoped>\n",
       "    .dataframe tbody tr th:only-of-type {\n",
       "        vertical-align: middle;\n",
       "    }\n",
       "\n",
       "    .dataframe tbody tr th {\n",
       "        vertical-align: top;\n",
       "    }\n",
       "\n",
       "    .dataframe thead th {\n",
       "        text-align: right;\n",
       "    }\n",
       "</style>\n",
       "<table border=\"1\" class=\"dataframe\">\n",
       "  <thead>\n",
       "    <tr style=\"text-align: right;\">\n",
       "      <th></th>\n",
       "      <th>cust_id</th>\n",
       "      <th>cust_name</th>\n",
       "      <th>cust_address</th>\n",
       "      <th>cust_city</th>\n",
       "      <th>cust_state</th>\n",
       "      <th>cust_zip</th>\n",
       "      <th>cust_country</th>\n",
       "      <th>cust_contact</th>\n",
       "      <th>cust_email</th>\n",
       "    </tr>\n",
       "  </thead>\n",
       "  <tbody>\n",
       "    <tr>\n",
       "      <th>0</th>\n",
       "      <td>1000000001</td>\n",
       "      <td>Village Toys</td>\n",
       "      <td>200 Maple Lane</td>\n",
       "      <td>Detroit</td>\n",
       "      <td>MI</td>\n",
       "      <td>44444</td>\n",
       "      <td>USA</td>\n",
       "      <td>John Smith</td>\n",
       "      <td>sales@villagetoys.com</td>\n",
       "    </tr>\n",
       "    <tr>\n",
       "      <th>1</th>\n",
       "      <td>1000000002</td>\n",
       "      <td>Kids Place</td>\n",
       "      <td>333 South Lake Drive</td>\n",
       "      <td>Columbus</td>\n",
       "      <td>OH</td>\n",
       "      <td>43333</td>\n",
       "      <td>USA</td>\n",
       "      <td>Michelle Green</td>\n",
       "      <td>None</td>\n",
       "    </tr>\n",
       "  </tbody>\n",
       "</table>\n",
       "</div>"
      ],
      "text/plain": [
       "      cust_id     cust_name          cust_address cust_city cust_state  \\\n",
       "0  1000000001  Village Toys        200 Maple Lane   Detroit         MI   \n",
       "1  1000000002    Kids Place  333 South Lake Drive  Columbus         OH   \n",
       "\n",
       "  cust_zip cust_country    cust_contact             cust_email  \n",
       "0    44444          USA      John Smith  sales@villagetoys.com  \n",
       "1    43333          USA  Michelle Green                   None  "
      ]
     },
     "execution_count": 9,
     "metadata": {},
     "output_type": "execute_result"
    }
   ],
   "source": [
    "# pandas 读取数据库\n",
    "import pandas as pd\n",
    "\n",
    "sql = '''\n",
    "SELECT * \n",
    "FROM Customers \n",
    "LIMIT 2;\n",
    "'''\n",
    "\n",
    "df = pd.read_sql(sql=sql, con=sqlite3.connect(sqlite_data_path))\n",
    "df"
   ]
  },
  {
   "cell_type": "markdown",
   "metadata": {},
   "source": [
    "# SELECT 查询  \n",
    "\n",
    "以下顺序必须保持。\n",
    "\n",
    "SELECT DISTINCT column1, column2 -- 列  \n",
    "FROM table -- 表  \n",
    "WHERE -- 过滤  \n",
    "GROUP BY -- 分组  \n",
    "HAVING -- 过滤分组  \n",
    "ORDER BY -- 排序  \n",
    "LIMIT 返回多少行 ;  \n",
    "\n",
    "完全限定列名：table.column ，跨表查询时会用到。"
   ]
  },
  {
   "cell_type": "markdown",
   "metadata": {},
   "source": [
    "## 1、基础检索\n",
    "\n",
    "SELECT  \n",
    "FROM  \n",
    "LIMIT ;  "
   ]
  },
  {
   "cell_type": "markdown",
   "metadata": {},
   "source": [
    "### 检索单个列\n",
    "\n",
    "SELECT prod_name  \n",
    "FROM Products ;  "
   ]
  },
  {
   "cell_type": "markdown",
   "metadata": {},
   "source": [
    "### 检索多个列\n",
    "\n",
    "SELECT prod_id, vend_id, prod_name  \n",
    "FROM Products ;  "
   ]
  },
  {
   "cell_type": "markdown",
   "metadata": {},
   "source": [
    "### 检索所有列\n",
    "\n",
    "SELECT *  \n",
    "FROM Products ;"
   ]
  },
  {
   "cell_type": "markdown",
   "metadata": {},
   "source": [
    "### DISTINCT 检索唯一值  \n",
    "DISTINCT 返回所有列的唯一值，不能部分返回\n",
    "\n",
    "SELECT DISTINCT prod_id, prod_name  \n",
    "FROM Products ;"
   ]
  },
  {
   "cell_type": "markdown",
   "metadata": {},
   "source": [
    "### LIMIT 限制返回结果\n",
    "SQL 行号从 0 开始  \n",
    "\n",
    "SELECT prod_id, prod_name  \n",
    "FROM Products  \n",
    "LIMIT 5 ;  -- 返回前 5 行  \n",
    "\n",
    "#### LIMIT OFFSET  \n",
    "\n",
    "SELECT prod_id, prod_name  \n",
    "FROM Products  \n",
    "LIMIT 5 OFFSET 3 ;  -- 从第 5 行开始，返回 3 行，如果超出范围不会报错，可以简写：LIMIT 5, 3 ;  "
   ]
  },
  {
   "cell_type": "markdown",
   "metadata": {},
   "source": [
    "### 注释  \n",
    "\n",
    "-- 单行注释  \n",
    "\n",
    "/\\*  \n",
    "多行注释  \n",
    "\\*/  \n",
    " "
   ]
  },
  {
   "cell_type": "markdown",
   "metadata": {},
   "source": [
    "## 2、ORDER BY 排序    \n",
    "\n",
    "ORDER BY 需要在除 LIMIT 外，所有 SQL 语句的最后一行。  \n",
    "可以使用未检索的列进行排序。  "
   ]
  },
  {
   "cell_type": "markdown",
   "metadata": {},
   "source": [
    "### 排序单个列\n",
    "\n",
    "SELECT prod_id, prod_name  \n",
    "FROM Products  \n",
    "ORDER BY prod_price ; -- 可以使用未检索的列进行排序  "
   ]
  },
  {
   "cell_type": "markdown",
   "metadata": {},
   "source": [
    "### 排序多个列（传递列名）\n",
    "\n",
    "SELECT prod_id, prod_price, prod_name  \n",
    "FROM Products  \n",
    "ORDER BY prod_price, prod_name ; -- 先按价格，再按名称排序  "
   ]
  },
  {
   "cell_type": "markdown",
   "metadata": {},
   "source": [
    "### 排序多个列（传递列相对位置）  \n",
    "\n",
    "可以和传递列名混合使用。  \n",
    "\n",
    "SELECT prod_id, prod_price, prod_name  \n",
    "FROM Products  \n",
    "ORDER BY 2, 3 ; --  相对位置从 1 开始。如果使用未检索的列排序，则不能传递相对位置  "
   ]
  },
  {
   "cell_type": "markdown",
   "metadata": {},
   "source": [
    "### 指定排序方向  \n",
    "\n",
    "DESC（降序，descending）、  ASC（默认，升序，ascending）"
   ]
  },
  {
   "cell_type": "markdown",
   "metadata": {},
   "source": [
    "SELECT prod_id, prod_price, prod_name  \n",
    "FROM Products  \n",
    "ORDER BY prod_price DESE, prod_name ; -- 排序方向只对单个列有效，如果要全部指定，则需要逐个指定排序方向。  "
   ]
  },
  {
   "cell_type": "markdown",
   "metadata": {},
   "source": [
    "## 3、WHERE 过滤  \n",
    "\n",
    "WHERE 在数据分组前，根据条件过滤数据。  \n",
    "可以使用为检索的列进行过滤。\n",
    "\n",
    "### 所有过滤操作符  \n",
    "\n",
    "| 操作符 | 说明 |\n",
    "| ------ | ------ |\n",
    "| = | 等于 |\n",
    "| != | 不等于 |\n",
    "| <> | 不等于 |\n",
    "| < | 小于 |\n",
    "| > | 大于 |\n",
    "| <= | 小于等于 |\n",
    "| >= | 大于等于 |\n",
    "| ! | 不小于 |\n",
    "| BERWEEN | 在指定两个值之间 |\n",
    "| ISNULL | 空值 |\n",
    "| NOTNULL | 非空值 |"
   ]
  },
  {
   "cell_type": "markdown",
   "metadata": {},
   "source": [
    "SELECT prod_name, prod_price  \n",
    "FROM Products  \n",
    "WHERE prod_price = 3.49 ;  \n",
    "\n",
    "SELECT prod_name, prod_price  \n",
    "FROM Products  \n",
    "WHERE prod_price BERWEEN 5 AND 10;  \n",
    "\n",
    "SELECT prod_name, prod_price  \n",
    "FORM Products  \n",
    "WHERE prod_price ISNULL;  "
   ]
  },
  {
   "cell_type": "markdown",
   "metadata": {},
   "source": [
    "## 4、高级过滤  \n",
    "\n",
    "组合 WHERE 条件"
   ]
  },
  {
   "cell_type": "markdown",
   "metadata": {},
   "source": [
    "### AND（且）、OR（或）组合 WHERE 条件  \n",
    "\n",
    "AND 逻辑且，对多个列进行过滤。  \n",
    "OR 逻辑或，一般第一个条件满足就不在计算后面的条件了。\n",
    "\n",
    "SELECT prod_id, prod_price, prod_name  \n",
    "FROM Products  \n",
    "WHERE vend_id='DLL01' AND prod_price<=4;  "
   ]
  },
  {
   "cell_type": "markdown",
   "metadata": {},
   "source": [
    "### 多个条件，需使用括号明确指定条件关系 \n",
    "\n",
    "SELECT prod_id, prod_price, prod_name  \n",
    "FROM Products  \n",
    "WHERE prod_price>=10 AND (vend_id='DLL01' OR vend_id='BRS01')  "
   ]
  },
  {
   "cell_type": "markdown",
   "metadata": {},
   "source": [
    "### IN  对一列，使用多个条件过滤  \n",
    "\n",
    "SELECT prod_name, prod_price  \n",
    "FROM Products  \n",
    "WHERE vend_id IN ('DLL01', 'BRS01');  \n",
    "\n",
    "也可用 OR 代替  \n",
    "\n",
    "WHERE vend_id='DLL01' OR vend_id='BRS01';  "
   ]
  },
  {
   "cell_type": "markdown",
   "metadata": {},
   "source": [
    " 可以包含其他 SELECT 语句  \n",
    " "
   ]
  },
  {
   "cell_type": "markdown",
   "metadata": {},
   "source": [
    "### NOT 否定后续条件  \n",
    "\n",
    "NOT 从不单独使用\n",
    "\n",
    "SELECT prod_name  \n",
    "FROM Products  \n",
    "WHERE NOT vend_id='DLL01';  "
   ]
  },
  {
   "cell_type": "markdown",
   "metadata": {},
   "source": [
    "## 5、使用通配符过滤  \n",
    "\n",
    "主要是通配符、LIKE，匹配文本"
   ]
  },
  {
   "cell_type": "markdown",
   "metadata": {},
   "source": [
    "### LIKE 匹配、通配搜索  \n",
    "\n",
    "#### % 通配符，匹配一个或多个字符，不能匹配 NULL  \n",
    "SELECT prod_id, prod_name  \n",
    "FROM Products  \n",
    "WHERE prod_name LIKE 'Fish%'; -- 匹配 Fish 开头的所有名称，注意：大小写敏感  \n",
    "\n",
    "#### _ 通配符，只匹配单个字符  \n",
    "SELECT prod_id, prod_name  \n",
    "FROM Products  \n",
    "WHERE prod_name LIKE 'F_sh b_an __g toy';  \n",
    "\n",
    "#### [ ] 通配符，指定要通配的字符集。注意：MySQL 不支持，只有 Access 和 SQL Server 支持\n",
    "SELECT prod_id, prod_name  \n",
    "FROM Products  \n",
    "WHERE prod_name LIKE '[RF]%'; -- 匹配 R 或 F 开头的名称  "
   ]
  },
  {
   "cell_type": "markdown",
   "metadata": {},
   "source": [
    "## 6、计算字段  \n",
    "\n",
    "很多时候，需要将多个列处理后再输出，比如：拼接、计算。  \n",
    "还会涉及到 AS 关键字。"
   ]
  },
  {
   "cell_type": "markdown",
   "metadata": {},
   "source": [
    "### 拼接字段  \n",
    "\n",
    "Access、SQL Server：+  \n",
    "SQLite：||  \n",
    "MySQL：concat() 函数  \n",
    "\n",
    "最基本的拼接：  \n",
    "SELECT vend_name || vend_country  \n",
    "FROM Vendors;  \n",
    "\n",
    "整理一下格式：  \n",
    "SELECT vend_name || ' (' || vend_country || ')'  \n",
    "FROM Vendors;  \n",
    "\n",
    "#### AS 关键字，添加别名，以便引用拼接的字段：  \n",
    "SELECT (vend_name || ' (' || vend_country || ')') AS vend_title  \n",
    "FROM Vendors;  \n"
   ]
  },
  {
   "cell_type": "markdown",
   "metadata": {},
   "source": [
    "### 执行算术计算\n",
    "\n",
    "比如计算订单号20008中每项物品的总价：  \n",
    "SELECT prod_id, quantity, item_price, quantity*item_price AS expanded_price  \n",
    "FROM OrderItems  \n",
    "WHERE order_num=20008;   \n",
    "\n",
    "SELECT 语句可以单独使用，执行简单操作，比如：  \n",
    "SELECT 2 + 3;  \n",
    "SELECT TRIM('  abc    '); -- 去掉左右的空格    \n",
    "SELECT RTRIM('abc   '); -- 去掉右边的空格    \n",
    "SELECT LTRIM('   abc'); -- 去掉左边的空格    "
   ]
  },
  {
   "cell_type": "markdown",
   "metadata": {},
   "source": [
    "## 7、聚集函数  \n",
    "\n",
    "有时我们想得到数据汇总的结果，并不需要数据本身，这时需要用到聚集函数。  "
   ]
  },
  {
   "cell_type": "markdown",
   "metadata": {},
   "source": [
    "### 聚集函数列表  \n",
    "\n",
    "| 函数 | 说明 |\n",
    "| ------ | ------ |\n",
    "| avg() | 返回平均值 |\n",
    "| count() | 返回行数 |\n",
    "| max() | 返回最大值 |\n",
    "| min() | 返回最小值 |\n",
    "| sum() | 返回求和结果 |\n",
    "\n",
    "### avg() 函数  \n",
    "\n",
    "avg() 作用于单个列，求多个列平均数需要用多个 avg() 函数。  \n",
    "\n",
    "SELECT avg(prod_price) AS avg_price  \n",
    "FROM Products  \n",
    "WHERE vend_id='BRS01';  \n",
    "\n",
    "### count() 函数\n",
    "\n",
    "count(*)：返回整个表的行数，包含 NULL  \n",
    "count(column)：返回指定列的行数，不包含 NULL  \n",
    "\n",
    "SELECT count(*) AS num_product  \n",
    "FROM Products;  \n",
    "\n",
    "### max() 函数  \n",
    "\n",
    "如果 max() 作用于文本，则返回排序后的最后一行。  \n",
    "\n",
    "SELECT max(prod_price) AS max_price  \n",
    "FROM Products;  \n",
    "\n",
    "### min() 函数\n",
    "\n",
    "如果 min() 作用于文本，则返回排序后的第一行。  \n",
    "\n",
    "SELECT min(prod_price) AS min_price  \n",
    "FROM Products;  \n",
    "\n",
    "### sum() 函数  \n",
    "\n",
    "SELECT sum(prod_price) AS sum_price  \n",
    "FROM Products  \n",
    "WHERE vend_id='BRS01';  \n",
    "\n",
    "SELECT sum(item_price*order_item) AS sum_item  \n",
    "FROM OrderItems;  "
   ]
  },
  {
   "cell_type": "markdown",
   "metadata": {},
   "source": [
    "### 聚集函数的 ALL、DISTINCT 属性\n",
    "\n",
    "ALL 属性，默认，计算所有值  \n",
    "DISTINCT 属性，计算唯一值  \n",
    "\n",
    "SELECT avg(DISTINCT prod_price) as avg_price  \n",
    "FROM Products;  "
   ]
  },
  {
   "cell_type": "markdown",
   "metadata": {},
   "source": [
    "### 组合聚集函数  \n",
    "\n",
    "可以将多个聚集函数组合使用。\n",
    "\n",
    "SELECT avg(DISTINCT prod_price) as avg_price, min(prod_price) AS min_price  \n",
    "FROM Products;  \n"
   ]
  },
  {
   "cell_type": "markdown",
   "metadata": {},
   "source": [
    "## 8、数据分组  \n",
    "\n",
    "SELECT 的最后两个子句：GROUP BY 和 HAVING  \n",
    "\n"
   ]
  },
  {
   "cell_type": "markdown",
   "metadata": {},
   "source": [
    "#### GROUP BY 分组\n",
    "\n",
    "SELECT vend_id, count(*) AS num_prods  \n",
    "FROM Products  \n",
    "GROUP BY vend_id;  "
   ]
  },
  {
   "cell_type": "markdown",
   "metadata": {},
   "source": [
    "#### HAVING 过滤分组  \n",
    "\n",
    "HAVING 在数据分组后，过滤数据。\n",
    "\n",
    "SELECT vend_id, count(*) AS num_prods  \n",
    "FROM Products  \n",
    "GROUP BY vend_id  \n",
    "HAVING num_prods >= 3;  "
   ]
  },
  {
   "cell_type": "markdown",
   "metadata": {},
   "source": [
    "WHERE 和 HAVING 同时使用：\n",
    "\n",
    "SELECT vend_id, count(\\*) AS num_prods  \n",
    "FROM Products  \n",
    "WHERE prod_price > 4  \n",
    "GROUP BY vend_id  \n",
    "HAVING count(\\*) >= 2;    "
   ]
  },
  {
   "cell_type": "code",
   "execution_count": null,
   "metadata": {},
   "outputs": [],
   "source": []
  }
 ],
 "metadata": {
  "kernelspec": {
   "display_name": "Python 3",
   "language": "python",
   "name": "python3"
  },
  "language_info": {
   "codemirror_mode": {
    "name": "ipython",
    "version": 3
   },
   "file_extension": ".py",
   "mimetype": "text/x-python",
   "name": "python",
   "nbconvert_exporter": "python",
   "pygments_lexer": "ipython3",
   "version": "3.6.5"
  }
 },
 "nbformat": 4,
 "nbformat_minor": 2
}
