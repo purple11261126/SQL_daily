{
 "cells": [
  {
   "cell_type": "markdown",
   "metadata": {},
   "source": [
    "# 联结表  \n",
    "\n",
    "多表联结（join）  \n",
    "多表联结可以替代子查询。  "
   ]
  },
  {
   "cell_type": "markdown",
   "metadata": {},
   "source": [
    "## 1、创建联结  \n",
    "\n",
    "指定要联结的表和关联方式就可以了：  \n",
    "SELECT vend_name, prod_name, prod_price  \n",
    "FROM Vendors, Products  \n",
    "WHERE Vendors.vend_id = Products.vend_id;  \n",
    "\n",
    "### 内联结（inner join）  \n",
    "\n",
    "上面的例子（等值联结）也称为内联结。内联结写法：SELECT 子句相同，FROM 子句指定 INNER JOIN 连接方式，NO 子句替代 WHERE 子句。  \n",
    "SELECT vend_name, prod_name, prod_price  \n",
    "FROM Vendors INNER JOIN Products  \n",
    "ON Vendors.vend_id = Products.vend_id;  \n",
    "\n",
    "### 联结多个表  \n",
    "\n",
    "一条 SELECT 可以联结任意多个表：  \n",
    "SELECT vend_name, prod_name, prod_price, quantity  \n",
    "FROM Vendors, Products, OrderItems  \n",
    "WHERE Vendors.vend_id = Products.vend_id  \n",
    "&emsp;&emsp;&emsp;&emsp;AND OrderItems.prod_id = Products.prod_id  \n",
    "&emsp;&emsp;&emsp;&emsp;AND order_num = 20007;  \n",
    "\n"
   ]
  },
  {
   "cell_type": "markdown",
   "metadata": {},
   "source": [
    "# 高级联结  "
   ]
  },
  {
   "cell_type": "markdown",
   "metadata": {},
   "source": [
    "## 1、表别名\n",
    "\n",
    "SELECT vend_name, prod_name, prod_price, quantity  \n",
    "FROM Vendors AS v, Products AS p, OrderItems AS o   \n",
    "WHERE v.vend_id = p.vend_id  \n",
    "&emsp;&emsp;&emsp;&emsp;AND o.prod_id = p.prod_id  \n",
    "&emsp;&emsp;&emsp;&emsp;AND order_num = 20007;  \n",
    "\n"
   ]
  }
 ],
 "metadata": {
  "kernelspec": {
   "display_name": "Python 3",
   "language": "python",
   "name": "python3"
  },
  "language_info": {
   "codemirror_mode": {
    "name": "ipython",
    "version": 3
   },
   "file_extension": ".py",
   "mimetype": "text/x-python",
   "name": "python",
   "nbconvert_exporter": "python",
   "pygments_lexer": "ipython3",
   "version": "3.6.5"
  }
 },
 "nbformat": 4,
 "nbformat_minor": 2
}
