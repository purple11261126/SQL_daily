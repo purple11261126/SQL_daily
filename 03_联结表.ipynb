{
 "cells": [
  {
   "cell_type": "markdown",
   "metadata": {},
   "source": [
    "# 联结表  \n",
    "\n",
    "多表联结（join）  \n",
    "多表联结可以替代子查询，一般联结比子查询效率高。  "
   ]
  },
  {
   "cell_type": "markdown",
   "metadata": {},
   "source": [
    "## 1、创建联结  \n",
    "\n",
    "指定要联结的表和关联方式就可以了：  \n",
    "SELECT vend_name, prod_name, prod_price  \n",
    "FROM Vendors, Products  \n",
    "WHERE Vendors.vend_id = Products.vend_id;  \n",
    "\n",
    "### 内联结（inner join）  \n",
    "\n",
    "上面的例子（等值联结）也称为内联结，内联结只显示被关联的行。  \n",
    "内联结写法：SELECT 子句相同，FROM 子句指定 INNER JOIN 连接方式，ON 子句替代 WHERE 子句。  \n",
    "\n",
    "SELECT vend_name, prod_name, prod_price  \n",
    "FROM Vendors INNER JOIN Products  \n",
    "&emsp;&emsp;ON Vendors.vend_id = Products.vend_id;  \n",
    "\n",
    "### 联结多个表  \n",
    "\n",
    "一条 SELECT 可以联结任意多个表：  \n",
    "SELECT vend_name, prod_name, prod_price, quantity  \n",
    "FROM Vendors, Products, OrderItems  \n",
    "WHERE Vendors.vend_id = Products.vend_id  \n",
    "&emsp;&emsp;&emsp;&emsp;AND OrderItems.prod_id = Products.prod_id  \n",
    "&emsp;&emsp;&emsp;&emsp;AND order_num = 20007;  \n",
    "\n"
   ]
  },
  {
   "cell_type": "markdown",
   "metadata": {},
   "source": [
    "# 高级联结  "
   ]
  },
  {
   "cell_type": "markdown",
   "metadata": {},
   "source": [
    "## 1、表别名\n",
    "\n",
    "注意：表别名只在查询执行中使用，不返回客户端，这是表别名和列别名的区别。\n",
    "\n",
    "SELECT vend_name, prod_name, prod_price, quantity  \n",
    "FROM Vendors AS v, Products AS p, OrderItems AS o   \n",
    "WHERE v.vend_id = p.vend_id  \n",
    "&emsp;&emsp;&emsp;&emsp;AND o.prod_id = p.prod_id  \n",
    "&emsp;&emsp;&emsp;&emsp;AND order_num = 20007;  \n",
    "\n"
   ]
  },
  {
   "cell_type": "markdown",
   "metadata": {},
   "source": [
    "## 2、其他联结  \n",
    "\n",
    "### 自联结（self join）  \n",
    "\n",
    "自联结在同一个表多次引用的情况下使用  \n",
    "\n",
    "例如下面的情况（需要两次引用 Customers 表）：  \n",
    "SELECT cust_contact  \n",
    "FROM Customers  \n",
    "WHERE cust_name = (SELECT cust_name  \n",
    "&emsp;&emsp;&emsp;&emsp;&emsp;&emsp;&emsp;&emsp;&emsp;&emsp;FROM Customers  \n",
    "&emsp;&emsp;&emsp;&emsp;&emsp;&emsp;&emsp;&emsp;&emsp;&emsp;WHERE cust_contact = 'Jim Jones');  \n",
    "\n",
    "用自联结的话：  \n",
    "SELECT c1.cust_contact  \n",
    "FROM Customers AS c1, Customers AS c2  \n",
    "WHERE c1.cust_name = c2.cust_name  \n",
    "&emsp;&emsp;AND c2.cust_contact = 'Jim Jones';  \n",
    "\n",
    "\n",
    "### 自然联结（natural join）  \n",
    "\n",
    "这个貌似没什么用......\n",
    "\n",
    "SELECT C.*, O.order_num, O.order_date, OI.prod_id, OI.quantity, OI.item_price  \n",
    "FROM Customers AS C, Orders AS O, OrderItems AS OI  \n",
    "WHERE C.cust_id = O.cust_id  \n",
    "&emsp;&emsp;AND OI.order_num = O.order_num  \n",
    "&emsp;&emsp;AND prod_id = 'RGANO1';  \n",
    "\n",
    "\n",
    "### 外链接（outer join）  \n",
    "\n",
    "拼接两个表，并显示所有行，包括没有被关联的行。  \n",
    "包括左联结、右联结、全联结。\n",
    "\n",
    "#### 左联结（LEFT OUTER JOIN）  \n",
    "\n",
    "显示 LEFT OUTER JOIN 关键字左边表的所有行：  \n",
    "SELECT Customers.cust_id, Orders.order_num  \n",
    "FROM Customers LEFT OUTER JOIN Orders  \n",
    "&emsp;&emsp;ON Customers.cust_id = Orders.cust_id  \n",
    "\n",
    "可以和内联结比较一下：  \n",
    "SELECT Customers.cust_id, Orders.order_num  \n",
    "FROM Customers, Orders  \n",
    "WHERE Customers.cust_id = Orders.cust_id  \n",
    "\n",
    "#### 右联结（RIGHT OUTER JOIN）\n",
    "\n",
    "使用左联结，对调 LEFT OUTER JOIN 左右两边表的顺序就可以实现右联结，这样更通用，比如在 pandas 或者 SQLite 中就不支持右联结。  \n",
    "\n",
    "#### 全联结（FULL OUTER JOIN）  \n",
    "\n",
    "显示 FULL OUTER JOIN 关键字两边的全部行。  \n",
    "但是很多主流数据库都不支持全联结，比如 Access、MySQL、MariaDB、SQLite......  "
   ]
  },
  {
   "cell_type": "markdown",
   "metadata": {},
   "source": [
    "## 3、带聚集函数的联结  \n",
    "\n",
    "表联结同聚集函数同时使用。  \n",
    "\n",
    "例如：  \n",
    "SELECT Customers.cust_id, count(Orders.order_num) AS num_ord  \n",
    "FROM Customers, Orders  \n",
    "WHERE Customers.cust_id = Orders.cust_id  \n",
    "GROUP BY Customers.cust_id;  \n",
    "\n",
    "内联结表示：  \n",
    "SELECT Customers.cust_id, count(Orders.order_num) AS num_ord  \n",
    "FROM Customers INNER JOIN Orders  \n",
    "ON Customers.cust_id = Orders.cust_id  \n",
    "GROUP BY Customers.cust_id;  "
   ]
  }
 ],
 "metadata": {
  "kernelspec": {
   "display_name": "Python 3",
   "language": "python",
   "name": "python3"
  },
  "language_info": {
   "codemirror_mode": {
    "name": "ipython",
    "version": 3
   },
   "file_extension": ".py",
   "mimetype": "text/x-python",
   "name": "python",
   "nbconvert_exporter": "python",
   "pygments_lexer": "ipython3",
   "version": "3.6.5"
  }
 },
 "nbformat": 4,
 "nbformat_minor": 2
}
