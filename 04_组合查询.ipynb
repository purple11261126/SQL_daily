{
 "cells": [
  {
   "cell_type": "markdown",
   "metadata": {},
   "source": [
    "# 组合查询（union）  \n",
    "\n",
    "在 SQL 中执行多个 SELECT 查询，并将结果整合为一个结果集返回，也叫复合查询（compound query）"
   ]
  },
  {
   "cell_type": "markdown",
   "metadata": {},
   "source": [
    "## 1、UNION 关键字创建组合查询  \n",
    "\n",
    "使用 UNION 关键字联结多个 SELECT 查询即可。  \n",
    "\n",
    "注意：每个 SELECT 查询的列、表达式、函数必须相同。\n",
    "\n",
    "SELECT cust_name, cust_contact, cust_email  \n",
    "FROM Customers  \n",
    "WHERE cust_state IN ('IL', 'IN', 'MI')  \n",
    "UNION  \n",
    "SELECT cust_name, cust_contact, cust_email  \n",
    "FROM Customers  \n",
    "WHERE cust_name = 'Fun4All';  \n",
    "\n",
    "上例的 WHERE 写法：  \n",
    "SELECT cust_name, cust_contact, cust_email  \n",
    "FROM Customers  \n",
    "WHERE cust_state IN ('IL', 'IN', 'MI')  \n",
    "&emsp;&emsp;OR cust_name = 'Fun4All';  "
   ]
  },
  {
   "cell_type": "markdown",
   "metadata": {},
   "source": [
    "## 2、UNION ALL 返回所有行  \n",
    "\n",
    "上面的例子（使用 UNION）不返回重复的行，使用 UNION ALL 可以返回所有行，包括重复的。  \n",
    "\n",
    "注意：WHERE 不可替代 UNION ALL，因为 WHERE 只能返回不重复的行。\n",
    "\n",
    "SELECT cust_name, cust_contact, cust_email  \n",
    "FROM Customers  \n",
    "WHERE cust_state IN ('IL', 'IN', 'MI')  \n",
    "UNION ALL  \n",
    "SELECT cust_name, cust_contact, cust_email  \n",
    "FROM Customers  \n",
    "WHERE cust_name = 'Fun4All';  "
   ]
  },
  {
   "cell_type": "markdown",
   "metadata": {},
   "source": [
    "### 组合查询的结果排序  \n",
    "\n",
    "组合查询只能有一个排序语句（ORDER BY），依旧是放在最后。\n",
    "\n",
    "SELECT cust_name, cust_contact, cust_email  \n",
    "FROM Customers  \n",
    "WHERE cust_state IN ('IL', 'IN', 'MI')  \n",
    "UNION  \n",
    "SELECT cust_name, cust_contact, cust_email  \n",
    "FROM Customers  \n",
    "WHERE cust_name = 'Fun4All'   \n",
    "ORDER BY cust_contact;  "
   ]
  }
 ],
 "metadata": {
  "kernelspec": {
   "display_name": "Python 3",
   "language": "python",
   "name": "python3"
  },
  "language_info": {
   "codemirror_mode": {
    "name": "ipython",
    "version": 3
   },
   "file_extension": ".py",
   "mimetype": "text/x-python",
   "name": "python",
   "nbconvert_exporter": "python",
   "pygments_lexer": "ipython3",
   "version": "3.6.5"
  }
 },
 "nbformat": 4,
 "nbformat_minor": 2
}
