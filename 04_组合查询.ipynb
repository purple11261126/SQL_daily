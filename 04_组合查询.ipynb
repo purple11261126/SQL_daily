{
 "cells": [
  {
   "cell_type": "markdown",
   "metadata": {},
   "source": [
    "# 组合查询（union）  \n",
    "\n",
    "在 SQL 中执行多个 SELECT 查询，并将结果整合为一个结果集返回，也叫复合查询（compound query）"
   ]
  },
  {
   "cell_type": "markdown",
   "metadata": {},
   "source": [
    "## 1、创建组合查询  \n",
    "\n",
    "使用 UNION 关键字联结多个 SELECT 查询即可。  \n",
    "注意：多个 SELECT 查询的列数量需要相同，列名不一定相同。\n",
    "\n",
    "SELECT cust_name, cust_contact, cust_email  \n",
    "FROM Customers  \n",
    "WHERE cust_state IN ('IL', 'IN', 'MI')  \n",
    "UNION  \n",
    "SELECT cust_name, cust_contact, cust_email  \n",
    "FROM Customers  \n",
    "WHERE cust_name = 'Fun4All'  \n",
    "\n",
    "上例的 WHERE 写法：  \n",
    "SELECT cust_name, cust_contact, cust_email  \n",
    "FROM Customers  \n",
    "WHERE cust_state IN ('IL', 'IN', 'MI')  \n",
    "&emsp;&emsp;OR cust_name = 'Fun4All'  "
   ]
  },
  {
   "cell_type": "code",
   "execution_count": null,
   "metadata": {},
   "outputs": [],
   "source": []
  }
 ],
 "metadata": {
  "kernelspec": {
   "display_name": "Python 3",
   "language": "python",
   "name": "python3"
  },
  "language_info": {
   "codemirror_mode": {
    "name": "ipython",
    "version": 3
   },
   "file_extension": ".py",
   "mimetype": "text/x-python",
   "name": "python",
   "nbconvert_exporter": "python",
   "pygments_lexer": "ipython3",
   "version": "3.6.5"
  }
 },
 "nbformat": 4,
 "nbformat_minor": 2
}
